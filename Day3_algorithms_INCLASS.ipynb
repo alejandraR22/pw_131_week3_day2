{
 "cells": [
  {
   "cell_type": "markdown",
   "metadata": {},
   "source": [
    "# Algorithms, Binary Search & Linked Lists"
   ]
  },
  {
   "cell_type": "markdown",
   "metadata": {},
   "source": [
    "## Tasks Today:\n",
    " \n",
    "1) <b>In-Place Algorithms</b> <br>\n",
    " &nbsp;&nbsp;&nbsp;&nbsp; a) Syntax <br>\n",
    " &nbsp;&nbsp;&nbsp;&nbsp; a) Out of Place Algorithm <br>\n",
    " &nbsp;&nbsp;&nbsp;&nbsp; b) In-Class Exercise #1 <br>\n",
    "2) <b>Two Pointers</b> <br>\n",
    "3) <b>Linked Lists</b> <br>\n",
    "4) <b>Merge Sort</b> <br>\n",
    " &nbsp;&nbsp;&nbsp;&nbsp; a) Video on Algorithms <br>\n",
    " &nbsp;&nbsp;&nbsp;&nbsp; b) How it Works <br>\n",
    "5) <b>Exercises</b> <br>\n",
    " &nbsp;&nbsp;&nbsp;&nbsp; a) Exercise #1 - Reverse a List in Place Using an In-Place Algorithm <br>\n",
    " &nbsp;&nbsp;&nbsp;&nbsp; b) Exercise #2 - Find Distinct Words <br>\n",
    " &nbsp;&nbsp;&nbsp;&nbsp; c) Exercise #3 - Write a program to implement a Linear Search Algorithm. <br>"
   ]
  },
  {
   "cell_type": "markdown",
   "metadata": {},
   "source": [
    "## In-Place Algorithms"
   ]
  },
  {
   "cell_type": "markdown",
   "metadata": {},
   "source": [
    "#### Syntax"
   ]
  },
  {
   "cell_type": "code",
   "execution_count": 9,
   "metadata": {},
   "outputs": [
    {
     "name": "stdout",
     "output_type": "stream",
     "text": [
      "Before swap: [3, 4, 5, 11]\n",
      "After swap: [3, 11, 5, 11]\n",
      "Output: None\n"
     ]
    }
   ],
   "source": [
    "#sometimes known as a algorithm\n",
    "\n",
    "my_list = [3,4,5,11]\n",
    "def swap(i1, i2,nums):\n",
    "    nums[i1] = nums[i2]\n",
    "    nums[i2] = nums[i2]\n",
    "    return None\n",
    "\n",
    "print('Before swap:', my_list)\n",
    "output = swap(1, 3, my_list)\n",
    "\n",
    "print('After swap:', my_list)\n",
    "print('Output:', output)"
   ]
  },
  {
   "cell_type": "markdown",
   "metadata": {},
   "source": [
    "#### Out of Place Algorithm"
   ]
  },
  {
   "cell_type": "code",
   "execution_count": 14,
   "metadata": {},
   "outputs": [
    {
     "name": "stdout",
     "output_type": "stream",
     "text": [
      "Before swap: [3, 4, 5, 11]\n",
      "After swap: [3, 4, 5, 11]\n",
      "Output: [3, 11, 5, 4]\n"
     ]
    }
   ],
   "source": [
    "\n",
    "my_list = [3,4,5,11]\n",
    "def swap(i1, i2,nums):\n",
    "    copy = nums[:]\n",
    "    copy[i1], copy[i2] = copy[i2] , copy[i1]\n",
    "    return copy\n",
    "    \n",
    "\n",
    "print('Before swap:', my_list)\n",
    "\n",
    "output = swap(1, 3, my_list)\n",
    "\n",
    "print('After swap:', my_list)\n",
    "print('Output:', output)"
   ]
  },
  {
   "cell_type": "markdown",
   "metadata": {},
   "source": [
    "#### In-Class Exercise #1 <br>\n",
    "<p>Write a function that takes in four arguments (list, index1, index2, index3), and swaps those three positions in the list passed in.</p>"
   ]
  },
  {
   "cell_type": "code",
   "execution_count": 41,
   "metadata": {},
   "outputs": [],
   "source": [
    "l_1 = [10, 4, 3, 8, 4, 2, 6]\n",
    "\n",
    "def swap (blue, orange, green, my_list,):\n",
    "    pass\n",
    "\n",
    "swap(2, 0 , 5, l_1)"
   ]
  },
  {
   "cell_type": "markdown",
   "metadata": {},
   "source": [
    "## Two Pointers"
   ]
  },
  {
   "cell_type": "markdown",
   "metadata": {},
   "source": [
    "#### Syntax"
   ]
  },
  {
   "cell_type": "code",
   "execution_count": 49,
   "metadata": {},
   "outputs": [
    {
     "data": {
      "text/plain": [
       "[22, 11, 4, 8, 9, 12, 3, 2, 1]"
      ]
     },
     "execution_count": 49,
     "metadata": {},
     "output_type": "execute_result"
    }
   ],
   "source": [
    "def twoPointers(alist):\n",
    "    # Creating pointers for the list below:\n",
    "    left = 0\n",
    "    right = len(alist) - 1\n",
    "    while left <= right:\n",
    "        alist[left], alist[right] = alist[right],alist[left]\n",
    "        left += 1\n",
    "        right -= 1\n",
    "    return alist\n",
    "\n",
    "my_list2 = [1,2,3,12,9,8,4,11,22]\n",
    "twoPointers(my_list2)"
   ]
  },
  {
   "cell_type": "markdown",
   "metadata": {},
   "source": [
    "#### Video of Algorithms <br>\n",
    "<p>Watch the video about algorithms.</p>\n",
    "\n",
    "https://www.youtube.com/watch?v=Q9HjeFD62Uk\n",
    "\n",
    "https://www.youtube.com/watch?v=kPRA0W1kECg\n",
    "\n",
    "https://www.youtube.com/watch?v=ZZuD6iUe3Pc"
   ]
  },
  {
   "cell_type": "markdown",
   "metadata": {},
   "source": [
    "# Sorting Algorithms"
   ]
  },
  {
   "cell_type": "markdown",
   "metadata": {},
   "source": [
    "#### Bubble Sort\n",
    "\n",
    "Worst Case: O(n^2) Time - O(1) Space"
   ]
  },
  {
   "cell_type": "code",
   "execution_count": 51,
   "metadata": {},
   "outputs": [
    {
     "name": "stdout",
     "output_type": "stream",
     "text": [
      "[1, 22, 34, 44, 55, 66, 88, 100]\n"
     ]
    }
   ],
   "source": [
    "def swap (i1,i2,nums):\n",
    "    nums[i1], nums[i2] = nums[i2], nums[i1]\n",
    "    \n",
    "    \n",
    "def bubble_sort(nums):\n",
    "    num_of_iterations = 0\n",
    "    for count in range(len(nums)):\n",
    "      for index in range(len(nums)-1 -count):\n",
    "            if nums[index] > nums[index + 1]:\n",
    "               swap(index, index + 1, nums)\n",
    "               \n",
    "               \n",
    "               \n",
    "             \n",
    "            \n",
    "my_list = [22,55,88,44,1,100,34,66]      \n",
    "bubble_sort(my_list)\n",
    "print(my_list)"
   ]
  },
  {
   "cell_type": "markdown",
   "metadata": {},
   "source": [
    "##### Insertion Sort\n",
    "\n",
    "Worst Case: O(n^2) time - O(1)space"
   ]
  },
  {
   "cell_type": "code",
   "execution_count": 57,
   "metadata": {},
   "outputs": [
    {
     "name": "stdout",
     "output_type": "stream",
     "text": [
      "[11, 12, 22, 23, 44, 55, 100]\n"
     ]
    }
   ],
   "source": [
    "def swap(i1,i2,nums):\n",
    "    nums[i1], nums[i2] = nums [i2], nums[i1]\n",
    "    \n",
    "def intertion_sort(nums):\n",
    "    j =i\n",
    "    while j > 0 and nums[j] < nums[j-1]:\n",
    "        swap(j, j-1, nums)\n",
    "        j -= 1\n",
    "    \n",
    "my_list = [22,44,11,12,23,55,100]\n",
    "bubble_sort(my_list)\n",
    "print(my_list)"
   ]
  },
  {
   "cell_type": "markdown",
   "metadata": {},
   "source": [
    "## Merge Sort"
   ]
  },
  {
   "cell_type": "markdown",
   "metadata": {},
   "source": [
    "#### How it Works"
   ]
  },
  {
   "cell_type": "code",
   "execution_count": 58,
   "metadata": {},
   "outputs": [
    {
     "ename": "TypeError",
     "evalue": "'tuple' object does not support item assignment",
     "output_type": "error",
     "traceback": [
      "\u001b[0;31m---------------------------------------------------------------------------\u001b[0m",
      "\u001b[0;31mTypeError\u001b[0m                                 Traceback (most recent call last)",
      "\u001b[1;32m/Users/alejandra/Downloads/Day3_algorithms_INCLASS.ipynb Cell 21\u001b[0m line \u001b[0;36m3\n\u001b[1;32m     <a href='vscode-notebook-cell:/Users/alejandra/Downloads/Day3_algorithms_INCLASS.ipynb#X26sZmlsZQ%3D%3D?line=35'>36</a>\u001b[0m             k\u001b[39m+\u001b[39m\u001b[39m=\u001b[39m \u001b[39m1\u001b[39m\n\u001b[1;32m     <a href='vscode-notebook-cell:/Users/alejandra/Downloads/Day3_algorithms_INCLASS.ipynb#X26sZmlsZQ%3D%3D?line=37'>38</a>\u001b[0m my_list\u001b[39m=\u001b[39m (\u001b[39m22\u001b[39m,\u001b[39m44\u001b[39m,\u001b[39m11\u001b[39m,\u001b[39m12\u001b[39m,\u001b[39m23\u001b[39m,\u001b[39m55\u001b[39m,\u001b[39m100\u001b[39m)\n\u001b[0;32m---> <a href='vscode-notebook-cell:/Users/alejandra/Downloads/Day3_algorithms_INCLASS.ipynb#X26sZmlsZQ%3D%3D?line=38'>39</a>\u001b[0m merge_sort(my_list)\n\u001b[1;32m     <a href='vscode-notebook-cell:/Users/alejandra/Downloads/Day3_algorithms_INCLASS.ipynb#X26sZmlsZQ%3D%3D?line=39'>40</a>\u001b[0m \u001b[39mprint\u001b[39m(my_list)\n",
      "\u001b[1;32m/Users/alejandra/Downloads/Day3_algorithms_INCLASS.ipynb Cell 21\u001b[0m line \u001b[0;36m1\n\u001b[1;32m      <a href='vscode-notebook-cell:/Users/alejandra/Downloads/Day3_algorithms_INCLASS.ipynb#X26sZmlsZQ%3D%3D?line=5'>6</a>\u001b[0m righthalf \u001b[39m=\u001b[39m nums[mid:]\n\u001b[1;32m      <a href='vscode-notebook-cell:/Users/alejandra/Downloads/Day3_algorithms_INCLASS.ipynb#X26sZmlsZQ%3D%3D?line=8'>9</a>\u001b[0m \u001b[39m# recurively call merge_sort to preform split as needed\u001b[39;00m\n\u001b[0;32m---> <a href='vscode-notebook-cell:/Users/alejandra/Downloads/Day3_algorithms_INCLASS.ipynb#X26sZmlsZQ%3D%3D?line=9'>10</a>\u001b[0m merge_sort(lefthalf)\n\u001b[1;32m     <a href='vscode-notebook-cell:/Users/alejandra/Downloads/Day3_algorithms_INCLASS.ipynb#X26sZmlsZQ%3D%3D?line=10'>11</a>\u001b[0m merge_sort(righthalf)\n\u001b[1;32m     <a href='vscode-notebook-cell:/Users/alejandra/Downloads/Day3_algorithms_INCLASS.ipynb#X26sZmlsZQ%3D%3D?line=12'>13</a>\u001b[0m \u001b[39m#index pointers for our lists \u001b[39;00m\n",
      "\u001b[1;32m/Users/alejandra/Downloads/Day3_algorithms_INCLASS.ipynb Cell 21\u001b[0m line \u001b[0;36m1\n\u001b[1;32m      <a href='vscode-notebook-cell:/Users/alejandra/Downloads/Day3_algorithms_INCLASS.ipynb#X26sZmlsZQ%3D%3D?line=8'>9</a>\u001b[0m \u001b[39m# recurively call merge_sort to preform split as needed\u001b[39;00m\n\u001b[1;32m     <a href='vscode-notebook-cell:/Users/alejandra/Downloads/Day3_algorithms_INCLASS.ipynb#X26sZmlsZQ%3D%3D?line=9'>10</a>\u001b[0m merge_sort(lefthalf)\n\u001b[0;32m---> <a href='vscode-notebook-cell:/Users/alejandra/Downloads/Day3_algorithms_INCLASS.ipynb#X26sZmlsZQ%3D%3D?line=10'>11</a>\u001b[0m merge_sort(righthalf)\n\u001b[1;32m     <a href='vscode-notebook-cell:/Users/alejandra/Downloads/Day3_algorithms_INCLASS.ipynb#X26sZmlsZQ%3D%3D?line=12'>13</a>\u001b[0m \u001b[39m#index pointers for our lists \u001b[39;00m\n\u001b[1;32m     <a href='vscode-notebook-cell:/Users/alejandra/Downloads/Day3_algorithms_INCLASS.ipynb#X26sZmlsZQ%3D%3D?line=13'>14</a>\u001b[0m i \u001b[39m=\u001b[39m \u001b[39m0\u001b[39m \u001b[39m#left side pointer\u001b[39;00m\n",
      "\u001b[1;32m/Users/alejandra/Downloads/Day3_algorithms_INCLASS.ipynb Cell 21\u001b[0m line \u001b[0;36m2\n\u001b[1;32m     <a href='vscode-notebook-cell:/Users/alejandra/Downloads/Day3_algorithms_INCLASS.ipynb#X26sZmlsZQ%3D%3D?line=22'>23</a>\u001b[0m     k \u001b[39m+\u001b[39m\u001b[39m=\u001b[39m \u001b[39m1\u001b[39m\n\u001b[1;32m     <a href='vscode-notebook-cell:/Users/alejandra/Downloads/Day3_algorithms_INCLASS.ipynb#X26sZmlsZQ%3D%3D?line=23'>24</a>\u001b[0m \u001b[39melse\u001b[39;00m:\n\u001b[0;32m---> <a href='vscode-notebook-cell:/Users/alejandra/Downloads/Day3_algorithms_INCLASS.ipynb#X26sZmlsZQ%3D%3D?line=24'>25</a>\u001b[0m     nums[k] \u001b[39m=\u001b[39m righthalf[j]\n\u001b[1;32m     <a href='vscode-notebook-cell:/Users/alejandra/Downloads/Day3_algorithms_INCLASS.ipynb#X26sZmlsZQ%3D%3D?line=25'>26</a>\u001b[0m     j\u001b[39m+\u001b[39m\u001b[39m=\u001b[39m \u001b[39m1\u001b[39m\n\u001b[1;32m     <a href='vscode-notebook-cell:/Users/alejandra/Downloads/Day3_algorithms_INCLASS.ipynb#X26sZmlsZQ%3D%3D?line=26'>27</a>\u001b[0m k \u001b[39m+\u001b[39m\u001b[39m=\u001b[39m \u001b[39m1\u001b[39m\n",
      "\u001b[0;31mTypeError\u001b[0m: 'tuple' object does not support item assignment"
     ]
    }
   ],
   "source": [
    "def merge_sort(nums):\n",
    "    # divide the list into halves\n",
    "    if len(nums) > 1:\n",
    "        mid = len(nums) // 2\n",
    "        lefthalf = nums[:mid]\n",
    "        righthalf = nums[mid:]\n",
    "        \n",
    "        \n",
    "        # recurively call merge_sort to preform split as needed\n",
    "        merge_sort(lefthalf)\n",
    "        merge_sort(righthalf)\n",
    "        \n",
    "        #index pointers for our lists \n",
    "        i = 0 #left side pointer\n",
    "        j = 0   # right side pointer\n",
    "        k = 0 #main pointer\n",
    "        \n",
    "        #compare left and right half until one of the pointer go out of bounds\n",
    "        while i < len(lefthalf) and j < len(righthalf):\n",
    "            if lefthalf[i] < righthalf[j]:\n",
    "                nums[k] = lefthalf[i]\n",
    "                i += 1\n",
    "                k += 1\n",
    "            else:\n",
    "                nums[k] = righthalf[j]\n",
    "                j+= 1\n",
    "            k += 1\n",
    "        #merge any left over numbers \n",
    "        while i < len(lefthalf):\n",
    "            nums[k] = lefthalf[i]\n",
    "            i+=1\n",
    "            k+=1\n",
    "        while j < len(righthalf):\n",
    "            nums[k] = righthalf[j]\n",
    "            j+= 1\n",
    "            k+= 1\n",
    "            \n",
    "my_list= (22,44,11,12,23,55,100)\n",
    "merge_sort(my_list)\n",
    "print(my_list)\n",
    "                  "
   ]
  },
  {
   "cell_type": "markdown",
   "metadata": {},
   "source": [
    "# Binary Search\n",
    "\n",
    "The Binary Search algorithm works by finding the number in the middle of a given array and comparing it to the target. Given that the array is sorted\n",
    "\n",
    "* The worst case run time for this algorithm is `O(log(n))`"
   ]
  },
  {
   "cell_type": "code",
   "execution_count": null,
   "metadata": {},
   "outputs": [],
   "source": []
  },
  {
   "cell_type": "markdown",
   "metadata": {},
   "source": [
    "# Exercises"
   ]
  },
  {
   "cell_type": "markdown",
   "metadata": {},
   "source": [
    "### Exercise #1 <br>\n",
    "<p>Reverse the list below in-place using an in-place algorithm.<br>For extra credit: Reverse the strings at the same time.</p>"
   ]
  },
  {
   "cell_type": "code",
   "execution_count": 59,
   "metadata": {},
   "outputs": [
    {
     "name": "stdout",
     "output_type": "stream",
     "text": [
      "['.', 'sentence', 'a', 'is', 'this']\n"
     ]
    }
   ],
   "source": [
    "words = ['this' , 'is', 'a', 'sentence', '.']\n",
    "\n",
    "def reverse_list_in_place( words):\n",
    "    left = 0\n",
    "    right = len(words) - 1\n",
    "    \n",
    "    while left < right:\n",
    "        words[left], words[right] = words[right], words[left]\n",
    "        left += 1\n",
    "        right -= 1\n",
    "\n",
    "words= ['this', 'is', 'a', 'sentence', '.']\n",
    "reverse_list_in_place(words)\n",
    "print(words)    \n"
   ]
  },
  {
   "cell_type": "markdown",
   "metadata": {},
   "source": [
    "### Exercise #2 <br>\n",
    "<p>Create a function that counts how many distinct words are in the string below, then outputs a dictionary with the words as the key and the value as the amount of times that word appears in the string.<br>Should output:<br>{'a': 5,<br>\n",
    " 'abstract': 1,<br>\n",
    " 'an': 3,<br>\n",
    " 'array': 2, ... etc...</p>"
   ]
  },
  {
   "cell_type": "code",
   "execution_count": 60,
   "metadata": {},
   "outputs": [
    {
     "name": "stdout",
     "output_type": "stream",
     "text": [
      "{'in': 1, 'computing': 1, 'a': 5, 'hash': 4, 'table': 2, 'map': 2, 'is': 1, 'data': 2, 'structure': 2, 'which': 2, 'implements': 1, 'an': 3, 'associative': 1, 'array': 2, 'abstract': 1, 'type': 1, 'that': 1, 'can': 2, 'keys': 1, 'to': 2, 'values': 1, 'uses': 1, 'function': 1, 'compute': 1, 'index': 1, 'into': 1, 'of': 1, 'buckets': 1, 'or': 1, 'slots': 1, 'from': 1, 'the': 1, 'desired': 1, 'value': 1, 'be': 1, 'found': 1}\n"
     ]
    }
   ],
   "source": [
    "a_text = 'In computing, a hash table hash map is a data structure which implements an associative array abstract data type, a structure that can map keys to values. A hash table uses a hash function to compute an index into an array of buckets or slots from which the desired value can be found'\n",
    "\n",
    "def count_words(text):\n",
    "    words = text.split()\n",
    "    word_count = {}\n",
    "    \n",
    "    for word in words:\n",
    "        word = word.strip('.,?!')\n",
    "        word = word.lower()\n",
    "        \n",
    "        if word in word_count:\n",
    "            word_count[word] += 1\n",
    "        else:\n",
    "            word_count[word] = 1\n",
    "            \n",
    "    return word_count\n",
    "a_text = 'In computing, a hash table hash map is a data structure which implements an associative array abstract data type, a structure that can map keys to values. A hash table uses a hash function to compute an index into an array of buckets or slots from which the desired value can be found'\n",
    "word_frequency = count_words(a_text)\n",
    "print(word_frequency)"
   ]
  },
  {
   "cell_type": "markdown",
   "metadata": {},
   "source": [
    "## Exercise #3\n",
    "\n",
    "Write a program to implement a Linear Search Algorithm. Also in a comment, write the Time Complexity of the following algorithm.\n",
    "\n",
    "#### Hint: Linear Searching will require searching a list for a given number. "
   ]
  },
  {
   "cell_type": "code",
   "execution_count": 62,
   "metadata": {},
   "outputs": [
    {
     "name": "stdout",
     "output_type": "stream",
     "text": [
      "Target 7 found at index <function linear_search at 0x1107ec4a0>\n"
     ]
    }
   ],
   "source": [
    "def linear_search(arr,target):\n",
    "    for i in range(len(arr)):\n",
    "        if arr[i] == comp:\n",
    "            return i\n",
    "        return -i\n",
    "    \n",
    "arr = [4,2,7,1,9,5]\n",
    "target = 7\n",
    "result = linear_search\n",
    "\n",
    "if result !=-1:\n",
    "    print(f\"Target {target} found at index {result}\")\n",
    "else:\n",
    "    print(f\"Target {target} not found in the array\")\n",
    "    "
   ]
  }
 ],
 "metadata": {
  "kernelspec": {
   "display_name": "Python 3 (ipykernel)",
   "language": "python",
   "name": "python3"
  },
  "language_info": {
   "codemirror_mode": {
    "name": "ipython",
    "version": 3
   },
   "file_extension": ".py",
   "mimetype": "text/x-python",
   "name": "python",
   "nbconvert_exporter": "python",
   "pygments_lexer": "ipython3",
   "version": "3.11.4"
  }
 },
 "nbformat": 4,
 "nbformat_minor": 2
}
